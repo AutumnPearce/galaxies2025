{
 "cells": [
  {
   "cell_type": "markdown",
   "metadata": {},
   "source": [
    "# HW 5"
   ]
  },
  {
   "cell_type": "markdown",
   "metadata": {},
   "source": [
    "## Problem 1"
   ]
  },
  {
   "cell_type": "markdown",
   "metadata": {},
   "source": [
    "### a"
   ]
  },
  {
   "cell_type": "code",
   "execution_count": 1,
   "metadata": {},
   "outputs": [],
   "source": [
    "import numpy as np\n",
    "from matplotlib import pyplot as plt\n",
    "from scipy.interpolate import interp1d"
   ]
  },
  {
   "cell_type": "code",
   "execution_count": 19,
   "metadata": {},
   "outputs": [
    {
     "name": "stdout",
     "output_type": "stream",
     "text": [
      "X=.5 when z = 275.67 and T = 754.19 K\n"
     ]
    }
   ],
   "source": [
    "k = 1.38e-16 # cm^2 g s^-2 K^-1\n",
    "m_e = 9.1e-28 # g\n",
    "h = 6.626e-27 # cm^2 g s^-1\n",
    "h_cosmo = .7\n",
    "chi_HI_HII = 2.179e-11 # erg\n",
    "T_0 = 2.726 # K\n",
    "Omega_b = .0224/(h_cosmo**2)\n",
    "\n",
    "def saha_RHS(z):\n",
    "    n_H = 8e-6 * Omega_b * h**2 * (1+z)**3 #cm^-3\n",
    "    return (1/n_H) * ((2*np.pi*m_e*k*T_0*(1+z))/(h**2))**3/2 * np.exp(-chi_HI_HII/(k*T_0*(1+z)))\n",
    "\n",
    "def saha_LHS(X):\n",
    "    return X**2/(1-X)\n",
    "\n",
    "LHS = saha_LHS(X=.5)\n",
    "\n",
    "zs = np.linspace(0, 1500, 1000)\n",
    "RHSs = saha_RHS(zs)\n",
    "\n",
    "z_from_LHS = interp1d(RHSs, zs)\n",
    "\n",
    "z_at_half = z_from_LHS(LHS)\n",
    "print(f\"X=.5 when z = {z_at_half:.2f} and T = {T_0*(1+z_at_half):.2f} K\")"
   ]
  },
  {
   "cell_type": "markdown",
   "metadata": {},
   "source": [
    "### b"
   ]
  },
  {
   "cell_type": "code",
   "execution_count": 3,
   "metadata": {},
   "outputs": [
    {
     "data": {
      "text/plain": [
       "[<matplotlib.lines.Line2D at 0x13c0a73d0>]"
      ]
     },
     "execution_count": 3,
     "metadata": {},
     "output_type": "execute_result"
    },
    {
     "data": {
      "image/png": "[encoded data removed]",
      "text/plain": [
       "<Figure size 700x500 with 1 Axes>"
      ]
     },
     "metadata": {},
     "output_type": "display_data"
    }
   ],
   "source": [
    "def original_saha_RHS(T, P_e=200):\n",
    "    # with i = HI and i+1 = HII\n",
    "    n_e = P_e/(k*T)\n",
    "\n",
    "    return (2/n_e) * (1/2) * ((2*np.pi*m_e*k*T)/(h**2))**(3/2) * np.exp(-chi_HI_HII/(k*T))\n",
    "\n",
    "def n2_over_nH(T, E_1_min_E_2=-10.2):\n",
    "    ev_to_erg = 1.60218e-12\n",
    "    E_1_min_E_2 *= ev_to_erg\n",
    "\n",
    "    RHS = original_saha_RHS(T)\n",
    "\n",
    "    return np.exp(E_1_min_E_2/(k*T))/(np.exp(E_1_min_E_2/(k*T))+1) * (1 - (RHS/(RHS+1)))\n",
    "\n",
    "Ts = np.linspace(2e3, 2e4, 600)\n",
    "fracs = n2_over_nH(Ts)\n",
    "\n",
    "fig,ax = plt.subplots(figsize=(7,5))\n",
    "fig.set_facecolor('darkgray')\n",
    "ax.set_xlabel('T [K]')\n",
    "ax.set_ylabel(r\"$n_e$ / $n_H$\")\n",
    "ax.set_yscale('log')\n",
    "plt.plot(Ts,fracs,color='firebrick',linewidth=2)"
   ]
  },
  {
   "cell_type": "code",
   "execution_count": 4,
   "metadata": {},
   "outputs": [
    {
     "name": "stdout",
     "output_type": "stream",
     "text": [
      "T_max = 9873.12\n"
     ]
    }
   ],
   "source": [
    "print(f\"T_max = {Ts[fracs.argmax()]:.2f}\")"
   ]
  },
  {
   "cell_type": "markdown",
   "metadata": {},
   "source": [
    "### Part c"
   ]
  },
  {
   "cell_type": "code",
   "execution_count": 5,
   "metadata": {},
   "outputs": [
    {
     "name": "stdout",
     "output_type": "stream",
     "text": [
      "n1/nHI = 9.9999281e-01\n",
      "n2/nHI = 7.1944030e-06\n",
      "\n",
      "n1/n2 = 1.39e+05\n"
     ]
    }
   ],
   "source": [
    "def n1_over_nHI(T, E1_min_E2=-10.2):\n",
    "    ev_to_erg = 1.60218e-12\n",
    "    E1_min_E2 *= ev_to_erg\n",
    "\n",
    "    exponent = np.exp(E1_min_E2/(k*T))\n",
    "\n",
    "    return (1+exponent)**-1\n",
    "\n",
    "def n2_over_nHI(T, E1_min_E2=-10.2):\n",
    "    ev_to_erg = 1.60218e-12\n",
    "    E1_min_E2 *= ev_to_erg\n",
    "\n",
    "    exponent = np.exp(E1_min_E2/(k*T))\n",
    "\n",
    "    return exponent / (1+exponent)\n",
    "\n",
    "print(f\"n1/nHI = {n1_over_nHI(10**4):.7e}\")\n",
    "print(f\"n2/nHI = {n2_over_nHI(10**4):.7e}\\n\")\n",
    "print(f\"n1/n2 = {n1_over_nHI(10**4)/n2_over_nHI(10**4):.2e}\")"
   ]
  },
  {
   "cell_type": "markdown",
   "metadata": {},
   "source": [
    "### part d"
   ]
  },
  {
   "cell_type": "code",
   "execution_count": 6,
   "metadata": {},
   "outputs": [
    {
     "name": "stdout",
     "output_type": "stream",
     "text": [
      "Tao_HAlpha/Tao_LyAlpha = 7.19e-09\n"
     ]
    }
   ],
   "source": [
    "sigma_LyAlph = 1e-14\n",
    "sigma_HAlph = 1e-17\n",
    "n2_over_n1 = n2_over_nHI(10**4)/n1_over_nHI(10**4)\n",
    "optical_depth_ratio = (sigma_HAlph/sigma_LyAlph) * n2_over_n1\n",
    "\n",
    "print(f\"Tao_HAlpha/Tao_LyAlpha = {optical_depth_ratio:.2e}\")"
   ]
  },
  {
   "cell_type": "markdown",
   "metadata": {},
   "source": [
    "## Problem 2"
   ]
  },
  {
   "cell_type": "code",
   "execution_count": 7,
   "metadata": {},
   "outputs": [],
   "source": [
    "import pandas as pd"
   ]
  },
  {
   "cell_type": "code",
   "execution_count": 8,
   "metadata": {},
   "outputs": [
    {
     "data": {
      "application/vnd.microsoft.datawrangler.viewer.v0+json": {
       "columns": [
        {
         "name": "index",
         "rawType": "int64",
         "type": "integer"
        },
        {
         "name": "0",
         "rawType": "float64",
         "type": "float"
        },
        {
         "name": "1",
         "rawType": "float64",
         "type": "float"
        },
        {
         "name": "2",
         "rawType": "float64",
         "type": "float"
        },
        {
         "name": "3",
         "rawType": "float64",
         "type": "float"
        },
        {
         "name": "4",
         "rawType": "float64",
         "type": "float"
        },
        {
         "name": "5",
         "rawType": "float64",
         "type": "float"
        }
       ],
       "conversionMethod": "pd.DataFrame",
       "ref": "02d38eab-c276-4fe7-9f5a-1d512aa0c740",
       "rows": [
        [
         "0",
         "10000.0",
         "4.7e-24",
         "4.98e-24",
         "7.78e-24",
         "5.59e-23",
         "3.77e-22"
        ],
        [
         "1",
         "10470.0",
         "7.62e-24",
         "7.79e-24",
         "9.549999999999999e-24",
         "3.09e-23",
         "6.96e-23"
        ],
        [
         "2",
         "10970.0",
         "1.2299999999999998e-23",
         "1.2499999999999999e-23",
         "1.3899999999999998e-23",
         "2.86e-23",
         "4.76e-23"
        ],
        [
         "3",
         "11490.0",
         "1.9699999999999998e-23",
         "1.9799999999999998e-23",
         "2.1099999999999998e-23",
         "3.4099999999999995e-23",
         "4.9299999999999993e-23"
        ],
        [
         "4",
         "12030.0",
         "3.08e-23",
         "3.09e-23",
         "3.22e-23",
         "4.51e-23",
         "5.98e-23"
        ],
        [
         "5",
         "12600.0",
         "4.6599999999999993e-23",
         "4.6699999999999993e-23",
         "4.8099999999999994e-23",
         "6.16e-23",
         "7.68e-23"
        ],
        [
         "6",
         "13200.0",
         "6.779999999999999e-23",
         "6.799999999999999e-23",
         "6.929999999999999e-23",
         "8.39e-23",
         "1e-22"
        ],
        [
         "7",
         "13830.0",
         "9.399999999999999e-23",
         "9.41e-23",
         "9.579999999999999e-23",
         "1.11e-22",
         "1.2800000000000001e-22"
        ],
        [
         "8",
         "14480.0",
         "1.22e-22",
         "1.22e-22",
         "1.24e-22",
         "1.4100000000000001e-22",
         "1.6e-22"
        ],
        [
         "9",
         "15170.0",
         "1.47e-22",
         "1.47e-22",
         "1.49e-22",
         "1.6700000000000001e-22",
         "1.88e-22"
        ],
        [
         "10",
         "15890.0",
         "1.65e-22",
         "1.65e-22",
         "1.6700000000000001e-22",
         "1.86e-22",
         "2.0900000000000002e-22"
        ],
        [
         "11",
         "16640.0",
         "1.71e-22",
         "1.71e-22",
         "1.73e-22",
         "1.94e-22",
         "2.17e-22"
        ],
        [
         "12",
         "17430.0",
         "1.69e-22",
         "1.69e-22",
         "1.71e-22",
         "1.92e-22",
         "2.15e-22"
        ],
        [
         "13",
         "18250.0",
         "1.59e-22",
         "1.59e-22",
         "1.61e-22",
         "1.82e-22",
         "2.0600000000000001e-22"
        ],
        [
         "14",
         "19120.0",
         "1.46e-22",
         "1.47e-22",
         "1.49e-22",
         "1.7e-22",
         "1.9300000000000001e-22"
        ],
        [
         "15",
         "20020.0",
         "1.32e-22",
         "1.32e-22",
         "1.34e-22",
         "1.55e-22",
         "1.79e-22"
        ],
        [
         "16",
         "20970.0",
         "1.18e-22",
         "1.18e-22",
         "1.21e-22",
         "1.43e-22",
         "1.6700000000000001e-22"
        ],
        [
         "17",
         "21960.0",
         "1.05e-22",
         "1.05e-22",
         "1.08e-22",
         "1.31e-22",
         "1.57e-22"
        ],
        [
         "18",
         "23000.0",
         "9.399999999999999e-23",
         "9.419999999999999e-23",
         "9.67e-23",
         "1.21e-22",
         "1.49e-22"
        ],
        [
         "19",
         "24090.0",
         "8.439999999999999e-23",
         "8.459999999999999e-23",
         "8.719999999999999e-23",
         "1.14e-22",
         "1.43e-22"
        ],
        [
         "20",
         "25240.0",
         "7.599999999999999e-23",
         "7.63e-23",
         "7.91e-23",
         "1.08e-22",
         "1.39e-22"
        ],
        [
         "21",
         "26430.0",
         "6.879999999999999e-23",
         "6.909999999999999e-23",
         "7.209999999999999e-23",
         "1.0300000000000001e-22",
         "1.3800000000000001e-22"
        ],
        [
         "22",
         "27680.0",
         "6.25e-23",
         "6.29e-23",
         "6.63e-23",
         "1e-22",
         "1.3800000000000001e-22"
        ],
        [
         "23",
         "28990.0",
         "5.709999999999999e-23",
         "5.75e-23",
         "6.129999999999999e-23",
         "9.849999999999999e-23",
         "1.4e-22"
        ],
        [
         "24",
         "30370.0",
         "5.2299999999999995e-23",
         "5.2699999999999997e-23",
         "5.669999999999999e-23",
         "9.769999999999999e-23",
         "1.43e-22"
        ],
        [
         "25",
         "31810.0",
         "4.77e-23",
         "4.8199999999999994e-23",
         "5.2699999999999997e-23",
         "9.769999999999999e-23",
         "1.48e-22"
        ],
        [
         "26",
         "33310.0",
         "4.3499999999999997e-23",
         "4.4e-23",
         "4.91e-23",
         "9.879999999999999e-23",
         "1.5400000000000001e-22"
        ],
        [
         "27",
         "34890.0",
         "3.98e-23",
         "4.0399999999999994e-23",
         "4.5799999999999995e-23",
         "1.01e-22",
         "1.62e-22"
        ],
        [
         "28",
         "36540.0",
         "3.6499999999999994e-23",
         "3.71e-23",
         "4.3199999999999995e-23",
         "1.04e-22",
         "1.72e-22"
        ],
        [
         "29",
         "38280.0",
         "3.35e-23",
         "3.4199999999999996e-23",
         "4.0899999999999997e-23",
         "1.08e-22",
         "1.84e-22"
        ],
        [
         "30",
         "40090.0",
         "3.09e-23",
         "3.1599999999999996e-23",
         "3.9199999999999995e-23",
         "1.14e-22",
         "1.97e-22"
        ],
        [
         "31",
         "41990.0",
         "2.8799999999999995e-23",
         "2.96e-23",
         "3.7899999999999995e-23",
         "1.21e-22",
         "2.13e-22"
        ],
        [
         "32",
         "43980.0",
         "2.72e-23",
         "2.81e-23",
         "3.72e-23",
         "1.29e-22",
         "2.3e-22"
        ],
        [
         "33",
         "46060.0",
         "2.6099999999999997e-23",
         "2.71e-23",
         "3.72e-23",
         "1.3800000000000001e-22",
         "2.5000000000000002e-22"
        ],
        [
         "34",
         "48240.0",
         "2.5699999999999998e-23",
         "2.68e-23",
         "3.7899999999999995e-23",
         "1.49e-22",
         "2.73e-22"
        ],
        [
         "35",
         "50530.0",
         "2.5999999999999997e-23",
         "2.72e-23",
         "3.9499999999999996e-23",
         "1.62e-22",
         "2.98e-22"
        ],
        [
         "36",
         "52920.0",
         "2.74e-23",
         "2.87e-23",
         "4.2099999999999996e-23",
         "1.77e-22",
         "3.27e-22"
        ],
        [
         "37",
         "55430.0",
         "2.9999999999999994e-23",
         "3.1499999999999995e-23",
         "4.6199999999999997e-23",
         "1.94e-22",
         "3.58e-22"
        ],
        [
         "38",
         "58050.0",
         "3.4099999999999995e-23",
         "3.5699999999999997e-23",
         "5.179999999999999e-23",
         "2.13e-22",
         "3.93e-22"
        ],
        [
         "39",
         "60800.0",
         "3.99e-23",
         "4.1699999999999994e-23",
         "5.92e-23",
         "2.35e-22",
         "4.31e-22"
        ],
        [
         "40",
         "63680.0",
         "4.7399999999999997e-23",
         "4.9299999999999993e-23",
         "6.83e-23",
         "2.59e-22",
         "4.72e-22"
        ],
        [
         "41",
         "66700.0",
         "5.629999999999999e-23",
         "5.83e-23",
         "7.89e-23",
         "2.85e-22",
         "5.15e-22"
        ],
        [
         "42",
         "69860.0",
         "6.559999999999999e-23",
         "6.779999999999999e-23",
         "9e-23",
         "3.12e-22",
         "5.59e-22"
        ],
        [
         "43",
         "73170.0",
         "7.429999999999999e-23",
         "7.669999999999999e-23",
         "1e-22",
         "3.3700000000000003e-22",
         "6.02e-22"
        ],
        [
         "44",
         "76630.0",
         "8.11e-23",
         "8.359999999999999e-23",
         "1.09e-22",
         "3.61e-22",
         "6.42e-22"
        ],
        [
         "45",
         "80260.0",
         "8.489999999999999e-23",
         "8.749999999999999e-23",
         "1.14e-22",
         "3.8e-22",
         "6.77e-22"
        ],
        [
         "46",
         "84070.0",
         "8.549999999999999e-23",
         "8.839999999999999e-23",
         "1.16e-22",
         "3.97e-22",
         "7.09e-22"
        ],
        [
         "47",
         "88050.0",
         "8.35e-23",
         "8.639999999999999e-23",
         "1.16e-22",
         "4.1e-22",
         "7.38e-22"
        ],
        [
         "48",
         "92220.0",
         "7.949999999999999e-23",
         "8.26e-23",
         "1.13e-22",
         "4.2e-22",
         "7.6300000000000005e-22"
        ],
        [
         "49",
         "96590.0",
         "7.42e-23",
         "7.74e-23",
         "1.09e-22",
         "4.28e-22",
         "7.83e-22"
        ]
       ],
       "shape": {
        "columns": 6,
        "rows": 201
       }
      },
      "text/html": [
       "<div>\n",
       "<style scoped>\n",
       "    .dataframe tbody tr th:only-of-type {\n",
       "        vertical-align: middle;\n",
       "    }\n",
       "\n",
       "    .dataframe tbody tr th {\n",
       "        vertical-align: top;\n",
       "    }\n",
       "\n",
       "    .dataframe thead th {\n",
       "        text-align: right;\n",
       "    }\n",
       "</style>\n",
       "<table border=\"1\" class=\"dataframe\">\n",
       "  <thead>\n",
       "    <tr style=\"text-align: right;\">\n",
       "      <th></th>\n",
       "      <th>0</th>\n",
       "      <th>1</th>\n",
       "      <th>2</th>\n",
       "      <th>3</th>\n",
       "      <th>4</th>\n",
       "      <th>5</th>\n",
       "    </tr>\n",
       "  </thead>\n",
       "  <tbody>\n",
       "    <tr>\n",
       "      <th>0</th>\n",
       "      <td>10000.0</td>\n",
       "      <td>4.700000e-24</td>\n",
       "      <td>4.980000e-24</td>\n",
       "      <td>7.780000e-24</td>\n",
       "      <td>5.590000e-23</td>\n",
       "      <td>3.770000e-22</td>\n",
       "    </tr>\n",
       "    <tr>\n",
       "      <th>1</th>\n",
       "      <td>10470.0</td>\n",
       "      <td>7.620000e-24</td>\n",
       "      <td>7.790000e-24</td>\n",
       "      <td>9.550000e-24</td>\n",
       "      <td>3.090000e-23</td>\n",
       "      <td>6.960000e-23</td>\n",
       "    </tr>\n",
       "    <tr>\n",
       "      <th>2</th>\n",
       "      <td>10970.0</td>\n",
       "      <td>1.230000e-23</td>\n",
       "      <td>1.250000e-23</td>\n",
       "      <td>1.390000e-23</td>\n",
       "      <td>2.860000e-23</td>\n",
       "      <td>4.760000e-23</td>\n",
       "    </tr>\n",
       "    <tr>\n",
       "      <th>3</th>\n",
       "      <td>11490.0</td>\n",
       "      <td>1.970000e-23</td>\n",
       "      <td>1.980000e-23</td>\n",
       "      <td>2.110000e-23</td>\n",
       "      <td>3.410000e-23</td>\n",
       "      <td>4.930000e-23</td>\n",
       "    </tr>\n",
       "    <tr>\n",
       "      <th>4</th>\n",
       "      <td>12030.0</td>\n",
       "      <td>3.080000e-23</td>\n",
       "      <td>3.090000e-23</td>\n",
       "      <td>3.220000e-23</td>\n",
       "      <td>4.510000e-23</td>\n",
       "      <td>5.980000e-23</td>\n",
       "    </tr>\n",
       "    <tr>\n",
       "      <th>...</th>\n",
       "      <td>...</td>\n",
       "      <td>...</td>\n",
       "      <td>...</td>\n",
       "      <td>...</td>\n",
       "      <td>...</td>\n",
       "      <td>...</td>\n",
       "    </tr>\n",
       "    <tr>\n",
       "      <th>196</th>\n",
       "      <td>83180000.0</td>\n",
       "      <td>1.880000e-23</td>\n",
       "      <td>1.890000e-23</td>\n",
       "      <td>1.950000e-23</td>\n",
       "      <td>2.560000e-23</td>\n",
       "      <td>3.250000e-23</td>\n",
       "    </tr>\n",
       "    <tr>\n",
       "      <th>197</th>\n",
       "      <td>87100000.0</td>\n",
       "      <td>1.910000e-23</td>\n",
       "      <td>1.910000e-23</td>\n",
       "      <td>1.970000e-23</td>\n",
       "      <td>2.580000e-23</td>\n",
       "      <td>3.260000e-23</td>\n",
       "    </tr>\n",
       "    <tr>\n",
       "      <th>198</th>\n",
       "      <td>91200000.0</td>\n",
       "      <td>1.920000e-23</td>\n",
       "      <td>1.930000e-23</td>\n",
       "      <td>1.990000e-23</td>\n",
       "      <td>2.590000e-23</td>\n",
       "      <td>3.270000e-23</td>\n",
       "    </tr>\n",
       "    <tr>\n",
       "      <th>199</th>\n",
       "      <td>95500000.0</td>\n",
       "      <td>1.940000e-23</td>\n",
       "      <td>1.950000e-23</td>\n",
       "      <td>2.000000e-23</td>\n",
       "      <td>2.600000e-23</td>\n",
       "      <td>3.260000e-23</td>\n",
       "    </tr>\n",
       "    <tr>\n",
       "      <th>200</th>\n",
       "      <td>100000000.0</td>\n",
       "      <td>1.960000e-23</td>\n",
       "      <td>1.960000e-23</td>\n",
       "      <td>2.020000e-23</td>\n",
       "      <td>2.610000e-23</td>\n",
       "      <td>3.270000e-23</td>\n",
       "    </tr>\n",
       "  </tbody>\n",
       "</table>\n",
       "<p>201 rows × 6 columns</p>\n",
       "</div>"
      ],
      "text/plain": [
       "               0             1             2             3             4  \\\n",
       "0        10000.0  4.700000e-24  4.980000e-24  7.780000e-24  5.590000e-23   \n",
       "1        10470.0  7.620000e-24  7.790000e-24  9.550000e-24  3.090000e-23   \n",
       "2        10970.0  1.230000e-23  1.250000e-23  1.390000e-23  2.860000e-23   \n",
       "3        11490.0  1.970000e-23  1.980000e-23  2.110000e-23  3.410000e-23   \n",
       "4        12030.0  3.080000e-23  3.090000e-23  3.220000e-23  4.510000e-23   \n",
       "..           ...           ...           ...           ...           ...   \n",
       "196   83180000.0  1.880000e-23  1.890000e-23  1.950000e-23  2.560000e-23   \n",
       "197   87100000.0  1.910000e-23  1.910000e-23  1.970000e-23  2.580000e-23   \n",
       "198   91200000.0  1.920000e-23  1.930000e-23  1.990000e-23  2.590000e-23   \n",
       "199   95500000.0  1.940000e-23  1.950000e-23  2.000000e-23  2.600000e-23   \n",
       "200  100000000.0  1.960000e-23  1.960000e-23  2.020000e-23  2.610000e-23   \n",
       "\n",
       "                5  \n",
       "0    3.770000e-22  \n",
       "1    6.960000e-23  \n",
       "2    4.760000e-23  \n",
       "3    4.930000e-23  \n",
       "4    5.980000e-23  \n",
       "..            ...  \n",
       "196  3.250000e-23  \n",
       "197  3.260000e-23  \n",
       "198  3.270000e-23  \n",
       "199  3.260000e-23  \n",
       "200  3.270000e-23  \n",
       "\n",
       "[201 rows x 6 columns]"
      ]
     },
     "execution_count": 8,
     "metadata": {},
     "output_type": "execute_result"
    }
   ],
   "source": [
    "CIE_pd = pd.read_csv(\"hw5_data/CIE.dat\", sep=\"\\\\s+\", header=None)\n",
    "CIE_pd"
   ]
  },
  {
   "cell_type": "code",
   "execution_count": 9,
   "metadata": {},
   "outputs": [
    {
     "data": {
      "application/vnd.microsoft.datawrangler.viewer.v0+json": {
       "columns": [
        {
         "name": "index",
         "rawType": "int64",
         "type": "integer"
        },
        {
         "name": "0",
         "rawType": "float64",
         "type": "float"
        },
        {
         "name": "1",
         "rawType": "float64",
         "type": "float"
        },
        {
         "name": "2",
         "rawType": "float64",
         "type": "float"
        },
        {
         "name": "3",
         "rawType": "float64",
         "type": "float"
        },
        {
         "name": "4",
         "rawType": "float64",
         "type": "float"
        },
        {
         "name": "5",
         "rawType": "float64",
         "type": "float"
        }
       ],
       "conversionMethod": "pd.DataFrame",
       "ref": "6c6f1c1c-d792-4265-b4fd-fd5c18b7111c",
       "rows": [
        [
         "0",
         "100000000.0",
         "2.39e-23",
         "2.3999999999999997e-23",
         "2.4399999999999999e-23",
         "2.82e-23",
         "3.19e-23"
        ],
        [
         "1",
         "95012000.0",
         "2.3299999999999996e-23",
         "2.3399999999999997e-23",
         "2.38e-23",
         "2.7599999999999995e-23",
         "3.1299999999999994e-23"
        ],
        [
         "2",
         "90273000.0",
         "2.2799999999999997e-23",
         "2.2799999999999997e-23",
         "2.32e-23",
         "2.7e-23",
         "3.07e-23"
        ],
        [
         "3",
         "85770000.0",
         "2.2199999999999997e-23",
         "2.2199999999999997e-23",
         "2.26e-23",
         "2.64e-23",
         "3.0199999999999995e-23"
        ],
        [
         "4",
         "81491000.0",
         "2.1599999999999998e-23",
         "2.1699999999999998e-23",
         "2.2099999999999997e-23",
         "2.58e-23",
         "2.96e-23"
        ],
        [
         "5",
         "77426000.0",
         "2.1099999999999998e-23",
         "2.1099999999999998e-23",
         "2.1499999999999997e-23",
         "2.5299999999999997e-23",
         "2.9099999999999996e-23"
        ],
        [
         "6",
         "73564000.0",
         "2.06e-23",
         "2.06e-23",
         "2.0999999999999998e-23",
         "2.4799999999999997e-23",
         "2.85e-23"
        ],
        [
         "7",
         "69895000.0",
         "2e-23",
         "2.0099999999999997e-23",
         "2.0499999999999999e-23",
         "2.4199999999999998e-23",
         "2.8e-23"
        ],
        [
         "8",
         "66408000.0",
         "1.9499999999999997e-23",
         "1.9599999999999997e-23",
         "2e-23",
         "2.3699999999999998e-23",
         "2.7499999999999995e-23"
        ],
        [
         "9",
         "63096000.0",
         "1.8999999999999998e-23",
         "1.9099999999999998e-23",
         "1.9499999999999997e-23",
         "2.32e-23",
         "2.71e-23"
        ],
        [
         "10",
         "59948000.0",
         "1.8499999999999998e-23",
         "1.86e-23",
         "1.8999999999999998e-23",
         "2.2799999999999997e-23",
         "2.6599999999999997e-23"
        ],
        [
         "11",
         "56958000.0",
         "1.81e-23",
         "1.81e-23",
         "1.8499999999999998e-23",
         "2.2299999999999998e-23",
         "2.6199999999999998e-23"
        ],
        [
         "12",
         "54117000.0",
         "1.7599999999999997e-23",
         "1.7699999999999998e-23",
         "1.81e-23",
         "2.19e-23",
         "2.58e-23"
        ],
        [
         "13",
         "51418000.0",
         "1.7199999999999998e-23",
         "1.7199999999999998e-23",
         "1.7599999999999997e-23",
         "2.1499999999999997e-23",
         "2.5399999999999997e-23"
        ],
        [
         "14",
         "48853000.0",
         "1.68e-23",
         "1.68e-23",
         "1.7199999999999998e-23",
         "2.1099999999999998e-23",
         "2.51e-23"
        ],
        [
         "15",
         "46416000.0",
         "1.6399999999999998e-23",
         "1.6399999999999998e-23",
         "1.68e-23",
         "2.0799999999999997e-23",
         "2.4799999999999997e-23"
        ],
        [
         "16",
         "44101000.0",
         "1.6e-23",
         "1.6e-23",
         "1.6399999999999998e-23",
         "2.0399999999999998e-23",
         "2.45e-23"
        ],
        [
         "17",
         "41901000.0",
         "1.56e-23",
         "1.56e-23",
         "1.6e-23",
         "2.0099999999999997e-23",
         "2.4299999999999998e-23"
        ],
        [
         "18",
         "39811000.0",
         "1.5199999999999998e-23",
         "1.5199999999999998e-23",
         "1.5699999999999997e-23",
         "1.9799999999999998e-23",
         "2.4099999999999997e-23"
        ],
        [
         "19",
         "37825000.0",
         "1.48e-23",
         "1.49e-23",
         "1.53e-23",
         "1.9499999999999997e-23",
         "2.39e-23"
        ],
        [
         "20",
         "35938000.0",
         "1.4499999999999998e-23",
         "1.4499999999999998e-23",
         "1.4999999999999997e-23",
         "1.93e-23",
         "2.3699999999999998e-23"
        ],
        [
         "21",
         "34145000.0",
         "1.41e-23",
         "1.41e-23",
         "1.4599999999999998e-23",
         "1.8999999999999998e-23",
         "2.3599999999999998e-23"
        ],
        [
         "22",
         "32442000.0",
         "1.3799999999999998e-23",
         "1.3799999999999998e-23",
         "1.43e-23",
         "1.8899999999999997e-23",
         "2.3599999999999998e-23"
        ],
        [
         "23",
         "30824000.0",
         "1.34e-23",
         "1.35e-23",
         "1.4e-23",
         "1.87e-23",
         "2.3599999999999998e-23"
        ],
        [
         "24",
         "29286000.0",
         "1.3099999999999999e-23",
         "1.32e-23",
         "1.37e-23",
         "1.86e-23",
         "2.3699999999999998e-23"
        ],
        [
         "25",
         "27826000.0",
         "1.2799999999999999e-23",
         "1.29e-23",
         "1.34e-23",
         "1.8499999999999998e-23",
         "2.39e-23"
        ],
        [
         "26",
         "26438000.0",
         "1.2499999999999999e-23",
         "1.26e-23",
         "1.3099999999999999e-23",
         "1.8499999999999998e-23",
         "2.4099999999999997e-23"
        ],
        [
         "27",
         "25119000.0",
         "1.2199999999999999e-23",
         "1.2299999999999998e-23",
         "1.29e-23",
         "1.8499999999999998e-23",
         "2.4399999999999999e-23"
        ],
        [
         "28",
         "23866000.0",
         "1.19e-23",
         "1.1999999999999998e-23",
         "1.26e-23",
         "1.86e-23",
         "2.4799999999999997e-23"
        ],
        [
         "29",
         "22675000.0",
         "1.1699999999999998e-23",
         "1.1699999999999998e-23",
         "1.2399999999999999e-23",
         "1.87e-23",
         "2.5299999999999997e-23"
        ],
        [
         "30",
         "21544000.0",
         "1.1399999999999999e-23",
         "1.1499999999999999e-23",
         "1.2099999999999999e-23",
         "1.88e-23",
         "2.5899999999999996e-23"
        ],
        [
         "31",
         "20470000.0",
         "1.1099999999999999e-23",
         "1.1199999999999999e-23",
         "1.19e-23",
         "1.9099999999999998e-23",
         "2.6599999999999997e-23"
        ],
        [
         "32",
         "19449000.0",
         "1.0899999999999999e-23",
         "1.0899999999999999e-23",
         "1.1699999999999998e-23",
         "1.93e-23",
         "2.74e-23"
        ],
        [
         "33",
         "18478000.0",
         "1.06e-23",
         "1.0699999999999998e-23",
         "1.1499999999999999e-23",
         "1.9699999999999998e-23",
         "2.83e-23"
        ],
        [
         "34",
         "17557000.0",
         "1.0399999999999998e-23",
         "1.0399999999999998e-23",
         "1.13e-23",
         "2.0099999999999997e-23",
         "2.95e-23"
        ],
        [
         "35",
         "16681000.0",
         "1.0099999999999999e-23",
         "1.0199999999999999e-23",
         "1.1199999999999999e-23",
         "2.06e-23",
         "3.06e-23"
        ],
        [
         "36",
         "15849000.0",
         "9.91e-24",
         "1e-23",
         "1.1e-23",
         "2.0999999999999998e-23",
         "3.1699999999999996e-23"
        ],
        [
         "37",
         "15058000.0",
         "9.69e-24",
         "9.8e-24",
         "1.0899999999999999e-23",
         "2.1399999999999997e-23",
         "3.2599999999999994e-23"
        ],
        [
         "38",
         "14307000.0",
         "9.48e-24",
         "9.589999999999999e-24",
         "1.0799999999999999e-23",
         "2.1799999999999999e-23",
         "3.35e-23"
        ],
        [
         "39",
         "13594000.0",
         "9.27e-24",
         "9.39e-24",
         "1.0499999999999999e-23",
         "2.2e-23",
         "3.4199999999999996e-23"
        ],
        [
         "40",
         "12915000.0",
         "9.069999999999999e-24",
         "9.19e-24",
         "1.0399999999999998e-23",
         "2.2199999999999997e-23",
         "3.48e-23"
        ],
        [
         "41",
         "12271000.0",
         "8.87e-24",
         "8.989999999999999e-24",
         "1.0199999999999999e-23",
         "2.2299999999999998e-23",
         "3.5199999999999994e-23"
        ],
        [
         "42",
         "11659000.0",
         "8.67e-24",
         "8.8e-24",
         "1e-23",
         "2.2399999999999998e-23",
         "3.5499999999999996e-23"
        ],
        [
         "43",
         "11078000.0",
         "8.48e-24",
         "8.61e-24",
         "9.86e-24",
         "2.2399999999999998e-23",
         "3.58e-23"
        ],
        [
         "44",
         "10525000.0",
         "8.289999999999999e-24",
         "8.419999999999999e-24",
         "9.69e-24",
         "2.2399999999999998e-23",
         "3.6e-23"
        ],
        [
         "45",
         "10000000.0",
         "8.11e-24",
         "8.24e-24",
         "9.53e-24",
         "2.2399999999999998e-23",
         "3.62e-23"
        ],
        [
         "46",
         "9501200.0",
         "7.949999999999999e-24",
         "8.079999999999999e-24",
         "9.4e-24",
         "2.26e-23",
         "3.6699999999999995e-23"
        ],
        [
         "47",
         "9027300.0",
         "7.79e-24",
         "7.92e-24",
         "9.28e-24",
         "2.2699999999999997e-23",
         "3.71e-23"
        ],
        [
         "48",
         "8577000.0",
         "7.63e-24",
         "7.769999999999999e-24",
         "9.249999999999999e-24",
         "2.2999999999999998e-23",
         "3.7799999999999994e-23"
        ],
        [
         "49",
         "8149100.0",
         "7.48e-24",
         "7.62e-24",
         "9.05e-24",
         "2.3299999999999996e-23",
         "3.85e-23"
        ]
       ],
       "shape": {
        "columns": 6,
        "rows": 181
       }
      },
      "text/html": [
       "<div>\n",
       "<style scoped>\n",
       "    .dataframe tbody tr th:only-of-type {\n",
       "        vertical-align: middle;\n",
       "    }\n",
       "\n",
       "    .dataframe tbody tr th {\n",
       "        vertical-align: top;\n",
       "    }\n",
       "\n",
       "    .dataframe thead th {\n",
       "        text-align: right;\n",
       "    }\n",
       "</style>\n",
       "<table border=\"1\" class=\"dataframe\">\n",
       "  <thead>\n",
       "    <tr style=\"text-align: right;\">\n",
       "      <th></th>\n",
       "      <th>0</th>\n",
       "      <th>1</th>\n",
       "      <th>2</th>\n",
       "      <th>3</th>\n",
       "      <th>4</th>\n",
       "      <th>5</th>\n",
       "    </tr>\n",
       "  </thead>\n",
       "  <tbody>\n",
       "    <tr>\n",
       "      <th>0</th>\n",
       "      <td>100000000.0</td>\n",
       "      <td>2.390000e-23</td>\n",
       "      <td>2.400000e-23</td>\n",
       "      <td>2.440000e-23</td>\n",
       "      <td>2.820000e-23</td>\n",
       "      <td>3.190000e-23</td>\n",
       "    </tr>\n",
       "    <tr>\n",
       "      <th>1</th>\n",
       "      <td>95012000.0</td>\n",
       "      <td>2.330000e-23</td>\n",
       "      <td>2.340000e-23</td>\n",
       "      <td>2.380000e-23</td>\n",
       "      <td>2.760000e-23</td>\n",
       "      <td>3.130000e-23</td>\n",
       "    </tr>\n",
       "    <tr>\n",
       "      <th>2</th>\n",
       "      <td>90273000.0</td>\n",
       "      <td>2.280000e-23</td>\n",
       "      <td>2.280000e-23</td>\n",
       "      <td>2.320000e-23</td>\n",
       "      <td>2.700000e-23</td>\n",
       "      <td>3.070000e-23</td>\n",
       "    </tr>\n",
       "    <tr>\n",
       "      <th>3</th>\n",
       "      <td>85770000.0</td>\n",
       "      <td>2.220000e-23</td>\n",
       "      <td>2.220000e-23</td>\n",
       "      <td>2.260000e-23</td>\n",
       "      <td>2.640000e-23</td>\n",
       "      <td>3.020000e-23</td>\n",
       "    </tr>\n",
       "    <tr>\n",
       "      <th>4</th>\n",
       "      <td>81491000.0</td>\n",
       "      <td>2.160000e-23</td>\n",
       "      <td>2.170000e-23</td>\n",
       "      <td>2.210000e-23</td>\n",
       "      <td>2.580000e-23</td>\n",
       "      <td>2.960000e-23</td>\n",
       "    </tr>\n",
       "    <tr>\n",
       "      <th>...</th>\n",
       "      <td>...</td>\n",
       "      <td>...</td>\n",
       "      <td>...</td>\n",
       "      <td>...</td>\n",
       "      <td>...</td>\n",
       "      <td>...</td>\n",
       "    </tr>\n",
       "    <tr>\n",
       "      <th>176</th>\n",
       "      <td>12272.0</td>\n",
       "      <td>9.500000e-25</td>\n",
       "      <td>1.010000e-24</td>\n",
       "      <td>1.600000e-24</td>\n",
       "      <td>7.620000e-24</td>\n",
       "      <td>1.420000e-23</td>\n",
       "    </tr>\n",
       "    <tr>\n",
       "      <th>177</th>\n",
       "      <td>11660.0</td>\n",
       "      <td>9.330000e-25</td>\n",
       "      <td>9.840000e-25</td>\n",
       "      <td>1.590000e-24</td>\n",
       "      <td>7.620000e-24</td>\n",
       "      <td>1.420000e-23</td>\n",
       "    </tr>\n",
       "    <tr>\n",
       "      <th>178</th>\n",
       "      <td>11078.0</td>\n",
       "      <td>9.070000e-25</td>\n",
       "      <td>9.780000e-25</td>\n",
       "      <td>1.580000e-24</td>\n",
       "      <td>7.650000e-24</td>\n",
       "      <td>1.430000e-23</td>\n",
       "    </tr>\n",
       "    <tr>\n",
       "      <th>179</th>\n",
       "      <td>10526.0</td>\n",
       "      <td>8.910000e-25</td>\n",
       "      <td>9.620000e-25</td>\n",
       "      <td>1.560000e-24</td>\n",
       "      <td>7.690000e-24</td>\n",
       "      <td>1.440000e-23</td>\n",
       "    </tr>\n",
       "    <tr>\n",
       "      <th>180</th>\n",
       "      <td>10000.0</td>\n",
       "      <td>8.760000e-25</td>\n",
       "      <td>9.470000e-25</td>\n",
       "      <td>1.550000e-24</td>\n",
       "      <td>7.730000e-24</td>\n",
       "      <td>1.450000e-23</td>\n",
       "    </tr>\n",
       "  </tbody>\n",
       "</table>\n",
       "<p>181 rows × 6 columns</p>\n",
       "</div>"
      ],
      "text/plain": [
       "               0             1             2             3             4  \\\n",
       "0    100000000.0  2.390000e-23  2.400000e-23  2.440000e-23  2.820000e-23   \n",
       "1     95012000.0  2.330000e-23  2.340000e-23  2.380000e-23  2.760000e-23   \n",
       "2     90273000.0  2.280000e-23  2.280000e-23  2.320000e-23  2.700000e-23   \n",
       "3     85770000.0  2.220000e-23  2.220000e-23  2.260000e-23  2.640000e-23   \n",
       "4     81491000.0  2.160000e-23  2.170000e-23  2.210000e-23  2.580000e-23   \n",
       "..           ...           ...           ...           ...           ...   \n",
       "176      12272.0  9.500000e-25  1.010000e-24  1.600000e-24  7.620000e-24   \n",
       "177      11660.0  9.330000e-25  9.840000e-25  1.590000e-24  7.620000e-24   \n",
       "178      11078.0  9.070000e-25  9.780000e-25  1.580000e-24  7.650000e-24   \n",
       "179      10526.0  8.910000e-25  9.620000e-25  1.560000e-24  7.690000e-24   \n",
       "180      10000.0  8.760000e-25  9.470000e-25  1.550000e-24  7.730000e-24   \n",
       "\n",
       "                5  \n",
       "0    3.190000e-23  \n",
       "1    3.130000e-23  \n",
       "2    3.070000e-23  \n",
       "3    3.020000e-23  \n",
       "4    2.960000e-23  \n",
       "..            ...  \n",
       "176  1.420000e-23  \n",
       "177  1.420000e-23  \n",
       "178  1.430000e-23  \n",
       "179  1.440000e-23  \n",
       "180  1.450000e-23  \n",
       "\n",
       "[181 rows x 6 columns]"
      ]
     },
     "execution_count": 9,
     "metadata": {},
     "output_type": "execute_result"
    }
   ],
   "source": [
    "PIE_pd = pd.read_csv(\"hw5_data/PIE2.dat\", sep=\"\\\\s+\", header=None)\n",
    "PIE_pd"
   ]
  },
  {
   "cell_type": "code",
   "execution_count": 10,
   "metadata": {},
   "outputs": [
    {
     "data": {
      "application/vnd.microsoft.datawrangler.viewer.v0+json": {
       "columns": [
        {
         "name": "index",
         "rawType": "int64",
         "type": "integer"
        },
        {
         "name": "0",
         "rawType": "float64",
         "type": "float"
        },
        {
         "name": "1",
         "rawType": "float64",
         "type": "float"
        },
        {
         "name": "2",
         "rawType": "float64",
         "type": "float"
        },
        {
         "name": "3",
         "rawType": "float64",
         "type": "float"
        },
        {
         "name": "4",
         "rawType": "float64",
         "type": "float"
        },
        {
         "name": "5",
         "rawType": "float64",
         "type": "float"
        }
       ],
       "conversionMethod": "pd.DataFrame",
       "ref": "d43e4dd5-57b8-4607-b72e-4277874755f7",
       "rows": [
        [
         "0",
         "100000000.0",
         "2.39e-23",
         "2.3999999999999997e-23",
         "2.4299999999999998e-23",
         "2.7899999999999997e-23",
         "3.1399999999999995e-23"
        ],
        [
         "1",
         "99000000.0",
         "2.38e-23",
         "2.38e-23",
         "2.4199999999999998e-23",
         "2.8e-23",
         "3.1799999999999997e-23"
        ],
        [
         "2",
         "98010000.0",
         "2.3699999999999998e-23",
         "2.3699999999999998e-23",
         "2.4099999999999997e-23",
         "2.7899999999999997e-23",
         "3.1699999999999996e-23"
        ],
        [
         "3",
         "97030000.0",
         "2.3599999999999998e-23",
         "2.3599999999999998e-23",
         "2.3999999999999997e-23",
         "2.7799999999999996e-23",
         "3.1499999999999995e-23"
        ],
        [
         "4",
         "96060000.0",
         "2.3499999999999997e-23",
         "2.3499999999999997e-23",
         "2.39e-23",
         "2.7699999999999996e-23",
         "3.1399999999999995e-23"
        ],
        [
         "5",
         "95100000.0",
         "2.3299999999999996e-23",
         "2.3399999999999997e-23",
         "2.38e-23",
         "2.7599999999999995e-23",
         "3.1299999999999994e-23"
        ],
        [
         "6",
         "94150000.0",
         "2.32e-23",
         "2.3299999999999996e-23",
         "2.3699999999999998e-23",
         "2.7499999999999995e-23",
         "3.12e-23"
        ],
        [
         "7",
         "93210000.0",
         "2.3099999999999999e-23",
         "2.32e-23",
         "2.3499999999999997e-23",
         "2.73e-23",
         "3.11e-23"
        ],
        [
         "8",
         "92270000.0",
         "2.2999999999999998e-23",
         "2.2999999999999998e-23",
         "2.3399999999999997e-23",
         "2.72e-23",
         "3.1e-23"
        ],
        [
         "9",
         "91350000.0",
         "2.2899999999999998e-23",
         "2.2899999999999998e-23",
         "2.3299999999999996e-23",
         "2.71e-23",
         "3.08e-23"
        ],
        [
         "10",
         "90440000.0",
         "2.2799999999999997e-23",
         "2.2799999999999997e-23",
         "2.32e-23",
         "2.7e-23",
         "3.07e-23"
        ],
        [
         "11",
         "89530000.0",
         "2.2699999999999997e-23",
         "2.2699999999999997e-23",
         "2.3099999999999999e-23",
         "2.69e-23",
         "3.06e-23"
        ],
        [
         "12",
         "88640000.0",
         "2.25e-23",
         "2.26e-23",
         "2.2999999999999998e-23",
         "2.68e-23",
         "3.0499999999999997e-23"
        ],
        [
         "13",
         "87750000.0",
         "2.2399999999999998e-23",
         "2.25e-23",
         "2.2899999999999998e-23",
         "2.67e-23",
         "3.0399999999999996e-23"
        ],
        [
         "14",
         "86880000.0",
         "2.2299999999999998e-23",
         "2.2399999999999998e-23",
         "2.2799999999999997e-23",
         "2.6599999999999997e-23",
         "3.0299999999999996e-23"
        ],
        [
         "15",
         "86010000.0",
         "2.2199999999999997e-23",
         "2.2299999999999998e-23",
         "2.26e-23",
         "2.64e-23",
         "3.0199999999999995e-23"
        ],
        [
         "16",
         "85150000.0",
         "2.2099999999999997e-23",
         "2.2099999999999997e-23",
         "2.25e-23",
         "2.6299999999999998e-23",
         "3.0099999999999995e-23"
        ],
        [
         "17",
         "84290000.0",
         "2.2e-23",
         "2.2e-23",
         "2.2399999999999998e-23",
         "2.6199999999999998e-23",
         "2.9999999999999994e-23"
        ],
        [
         "18",
         "83450000.0",
         "2.19e-23",
         "2.19e-23",
         "2.2299999999999998e-23",
         "2.6099999999999997e-23",
         "2.99e-23"
        ],
        [
         "19",
         "82620000.0",
         "2.1799999999999999e-23",
         "2.1799999999999999e-23",
         "2.2199999999999997e-23",
         "2.5999999999999997e-23",
         "2.98e-23"
        ],
        [
         "20",
         "81790000.0",
         "2.1699999999999998e-23",
         "2.1699999999999998e-23",
         "2.2099999999999997e-23",
         "2.5899999999999996e-23",
         "2.96e-23"
        ],
        [
         "21",
         "80970000.0",
         "2.1599999999999998e-23",
         "2.1599999999999998e-23",
         "2.2e-23",
         "2.58e-23",
         "2.96e-23"
        ],
        [
         "22",
         "80160000.0",
         "2.1499999999999997e-23",
         "2.1499999999999997e-23",
         "2.19e-23",
         "2.5699999999999998e-23",
         "2.94e-23"
        ],
        [
         "23",
         "79360000.0",
         "2.13e-23",
         "2.1399999999999997e-23",
         "2.1799999999999999e-23",
         "2.5599999999999998e-23",
         "2.93e-23"
        ],
        [
         "24",
         "78570000.0",
         "2.12e-23",
         "2.13e-23",
         "2.1699999999999998e-23",
         "2.5499999999999998e-23",
         "2.9199999999999997e-23"
        ],
        [
         "25",
         "77780000.0",
         "2.1099999999999998e-23",
         "2.12e-23",
         "2.1599999999999998e-23",
         "2.5299999999999997e-23",
         "2.9099999999999996e-23"
        ],
        [
         "26",
         "77000000.0",
         "2.0999999999999998e-23",
         "2.1099999999999998e-23",
         "2.1499999999999997e-23",
         "2.52e-23",
         "2.8999999999999996e-23"
        ],
        [
         "27",
         "76230000.0",
         "2.0899999999999997e-23",
         "2.0999999999999998e-23",
         "2.13e-23",
         "2.51e-23",
         "2.8899999999999995e-23"
        ],
        [
         "28",
         "75470000.0",
         "2.0799999999999997e-23",
         "2.0899999999999997e-23",
         "2.12e-23",
         "2.4999999999999998e-23",
         "2.8799999999999995e-23"
        ],
        [
         "29",
         "74720000.0",
         "2.07e-23",
         "2.0799999999999997e-23",
         "2.1099999999999998e-23",
         "2.4899999999999998e-23",
         "2.87e-23"
        ],
        [
         "30",
         "73970000.0",
         "2.06e-23",
         "2.06e-23",
         "2.0999999999999998e-23",
         "2.4799999999999997e-23",
         "2.86e-23"
        ],
        [
         "31",
         "73230000.0",
         "2.0499999999999999e-23",
         "2.0499999999999999e-23",
         "2.0899999999999997e-23",
         "2.4699999999999997e-23",
         "2.85e-23"
        ],
        [
         "32",
         "72500000.0",
         "2.0399999999999998e-23",
         "2.0399999999999998e-23",
         "2.0799999999999997e-23",
         "2.4599999999999996e-23",
         "2.84e-23"
        ],
        [
         "33",
         "71770000.0",
         "2.0299999999999998e-23",
         "2.0299999999999998e-23",
         "2.07e-23",
         "2.45e-23",
         "2.83e-23"
        ],
        [
         "34",
         "71060000.0",
         "2.0199999999999997e-23",
         "2.0199999999999997e-23",
         "2.06e-23",
         "2.4399999999999999e-23",
         "2.82e-23"
        ],
        [
         "35",
         "70340000.0",
         "2.0099999999999997e-23",
         "2.0099999999999997e-23",
         "2.0499999999999999e-23",
         "2.4299999999999998e-23",
         "2.81e-23"
        ],
        [
         "36",
         "69640000.0",
         "2e-23",
         "2e-23",
         "2.0399999999999998e-23",
         "2.4199999999999998e-23",
         "2.8e-23"
        ],
        [
         "37",
         "68940000.0",
         "1.99e-23",
         "1.99e-23",
         "2.0299999999999998e-23",
         "2.4099999999999997e-23",
         "2.7899999999999997e-23"
        ],
        [
         "38",
         "68260000.0",
         "1.9799999999999998e-23",
         "1.9799999999999998e-23",
         "2.0199999999999997e-23",
         "2.3999999999999997e-23",
         "2.7799999999999996e-23"
        ],
        [
         "39",
         "67570000.0",
         "1.9699999999999998e-23",
         "1.9699999999999998e-23",
         "2.0099999999999997e-23",
         "2.39e-23",
         "2.7699999999999996e-23"
        ],
        [
         "40",
         "66900000.0",
         "1.9599999999999997e-23",
         "1.9599999999999997e-23",
         "2e-23",
         "2.38e-23",
         "2.7599999999999995e-23"
        ],
        [
         "41",
         "66230000.0",
         "1.9499999999999997e-23",
         "1.9499999999999997e-23",
         "1.99e-23",
         "2.3699999999999998e-23",
         "2.7499999999999995e-23"
        ],
        [
         "42",
         "65570000.0",
         "1.94e-23",
         "1.94e-23",
         "1.9799999999999998e-23",
         "2.3599999999999998e-23",
         "2.74e-23"
        ],
        [
         "43",
         "64910000.0",
         "1.93e-23",
         "1.93e-23",
         "1.9699999999999998e-23",
         "2.3499999999999997e-23",
         "2.73e-23"
        ],
        [
         "44",
         "64260000.0",
         "1.92e-23",
         "1.92e-23",
         "1.9599999999999997e-23",
         "2.3399999999999997e-23",
         "2.72e-23"
        ],
        [
         "45",
         "63620000.0",
         "1.9099999999999998e-23",
         "1.9099999999999998e-23",
         "1.9499999999999997e-23",
         "2.3299999999999996e-23",
         "2.71e-23"
        ],
        [
         "46",
         "62980000.0",
         "1.8999999999999998e-23",
         "1.8999999999999998e-23",
         "1.94e-23",
         "2.32e-23",
         "2.7e-23"
        ],
        [
         "47",
         "62350000.0",
         "1.8899999999999997e-23",
         "1.8899999999999997e-23",
         "1.93e-23",
         "2.3099999999999999e-23",
         "2.7e-23"
        ],
        [
         "48",
         "61730000.0",
         "1.88e-23",
         "1.88e-23",
         "1.92e-23",
         "2.2999999999999998e-23",
         "2.69e-23"
        ],
        [
         "49",
         "61110000.0",
         "1.87e-23",
         "1.88e-23",
         "1.9099999999999998e-23",
         "2.2899999999999998e-23",
         "2.68e-23"
        ]
       ],
       "shape": {
        "columns": 6,
        "rows": 873
       }
      },
      "text/html": [
       "<div>\n",
       "<style scoped>\n",
       "    .dataframe tbody tr th:only-of-type {\n",
       "        vertical-align: middle;\n",
       "    }\n",
       "\n",
       "    .dataframe tbody tr th {\n",
       "        vertical-align: top;\n",
       "    }\n",
       "\n",
       "    .dataframe thead th {\n",
       "        text-align: right;\n",
       "    }\n",
       "</style>\n",
       "<table border=\"1\" class=\"dataframe\">\n",
       "  <thead>\n",
       "    <tr style=\"text-align: right;\">\n",
       "      <th></th>\n",
       "      <th>0</th>\n",
       "      <th>1</th>\n",
       "      <th>2</th>\n",
       "      <th>3</th>\n",
       "      <th>4</th>\n",
       "      <th>5</th>\n",
       "    </tr>\n",
       "  </thead>\n",
       "  <tbody>\n",
       "    <tr>\n",
       "      <th>0</th>\n",
       "      <td>100000000.0</td>\n",
       "      <td>2.390000e-23</td>\n",
       "      <td>2.400000e-23</td>\n",
       "      <td>2.430000e-23</td>\n",
       "      <td>2.790000e-23</td>\n",
       "      <td>3.140000e-23</td>\n",
       "    </tr>\n",
       "    <tr>\n",
       "      <th>1</th>\n",
       "      <td>99000000.0</td>\n",
       "      <td>2.380000e-23</td>\n",
       "      <td>2.380000e-23</td>\n",
       "      <td>2.420000e-23</td>\n",
       "      <td>2.800000e-23</td>\n",
       "      <td>3.180000e-23</td>\n",
       "    </tr>\n",
       "    <tr>\n",
       "      <th>2</th>\n",
       "      <td>98010000.0</td>\n",
       "      <td>2.370000e-23</td>\n",
       "      <td>2.370000e-23</td>\n",
       "      <td>2.410000e-23</td>\n",
       "      <td>2.790000e-23</td>\n",
       "      <td>3.170000e-23</td>\n",
       "    </tr>\n",
       "    <tr>\n",
       "      <th>3</th>\n",
       "      <td>97030000.0</td>\n",
       "      <td>2.360000e-23</td>\n",
       "      <td>2.360000e-23</td>\n",
       "      <td>2.400000e-23</td>\n",
       "      <td>2.780000e-23</td>\n",
       "      <td>3.150000e-23</td>\n",
       "    </tr>\n",
       "    <tr>\n",
       "      <th>4</th>\n",
       "      <td>96060000.0</td>\n",
       "      <td>2.350000e-23</td>\n",
       "      <td>2.350000e-23</td>\n",
       "      <td>2.390000e-23</td>\n",
       "      <td>2.770000e-23</td>\n",
       "      <td>3.140000e-23</td>\n",
       "    </tr>\n",
       "    <tr>\n",
       "      <th>...</th>\n",
       "      <td>...</td>\n",
       "      <td>...</td>\n",
       "      <td>...</td>\n",
       "      <td>...</td>\n",
       "      <td>...</td>\n",
       "      <td>...</td>\n",
       "    </tr>\n",
       "    <tr>\n",
       "      <th>868</th>\n",
       "      <td>16300.0</td>\n",
       "      <td>NaN</td>\n",
       "      <td>NaN</td>\n",
       "      <td>NaN</td>\n",
       "      <td>NaN</td>\n",
       "      <td>1.520000e-23</td>\n",
       "    </tr>\n",
       "    <tr>\n",
       "      <th>869</th>\n",
       "      <td>16140.0</td>\n",
       "      <td>NaN</td>\n",
       "      <td>NaN</td>\n",
       "      <td>NaN</td>\n",
       "      <td>NaN</td>\n",
       "      <td>1.510000e-23</td>\n",
       "    </tr>\n",
       "    <tr>\n",
       "      <th>870</th>\n",
       "      <td>15980.0</td>\n",
       "      <td>NaN</td>\n",
       "      <td>NaN</td>\n",
       "      <td>NaN</td>\n",
       "      <td>NaN</td>\n",
       "      <td>1.520000e-23</td>\n",
       "    </tr>\n",
       "    <tr>\n",
       "      <th>871</th>\n",
       "      <td>15820.0</td>\n",
       "      <td>NaN</td>\n",
       "      <td>NaN</td>\n",
       "      <td>NaN</td>\n",
       "      <td>NaN</td>\n",
       "      <td>1.500000e-23</td>\n",
       "    </tr>\n",
       "    <tr>\n",
       "      <th>872</th>\n",
       "      <td>15660.0</td>\n",
       "      <td>NaN</td>\n",
       "      <td>NaN</td>\n",
       "      <td>NaN</td>\n",
       "      <td>NaN</td>\n",
       "      <td>1.490000e-23</td>\n",
       "    </tr>\n",
       "  </tbody>\n",
       "</table>\n",
       "<p>873 rows × 6 columns</p>\n",
       "</div>"
      ],
      "text/plain": [
       "               0             1             2             3             4  \\\n",
       "0    100000000.0  2.390000e-23  2.400000e-23  2.430000e-23  2.790000e-23   \n",
       "1     99000000.0  2.380000e-23  2.380000e-23  2.420000e-23  2.800000e-23   \n",
       "2     98010000.0  2.370000e-23  2.370000e-23  2.410000e-23  2.790000e-23   \n",
       "3     97030000.0  2.360000e-23  2.360000e-23  2.400000e-23  2.780000e-23   \n",
       "4     96060000.0  2.350000e-23  2.350000e-23  2.390000e-23  2.770000e-23   \n",
       "..           ...           ...           ...           ...           ...   \n",
       "868      16300.0           NaN           NaN           NaN           NaN   \n",
       "869      16140.0           NaN           NaN           NaN           NaN   \n",
       "870      15980.0           NaN           NaN           NaN           NaN   \n",
       "871      15820.0           NaN           NaN           NaN           NaN   \n",
       "872      15660.0           NaN           NaN           NaN           NaN   \n",
       "\n",
       "                5  \n",
       "0    3.140000e-23  \n",
       "1    3.180000e-23  \n",
       "2    3.170000e-23  \n",
       "3    3.150000e-23  \n",
       "4    3.140000e-23  \n",
       "..            ...  \n",
       "868  1.520000e-23  \n",
       "869  1.510000e-23  \n",
       "870  1.520000e-23  \n",
       "871  1.500000e-23  \n",
       "872  1.490000e-23  \n",
       "\n",
       "[873 rows x 6 columns]"
      ]
     },
     "execution_count": 10,
     "metadata": {},
     "output_type": "execute_result"
    }
   ],
   "source": [
    "PINE_pd = pd.read_csv(\"hw5_data/PINE2.dat\", sep=\"\\\\s+\", header=None)\n",
    "PINE_pd"
   ]
  },
  {
   "cell_type": "markdown",
   "metadata": {},
   "source": [
    "### Part a"
   ]
  },
  {
   "cell_type": "code",
   "execution_count": 11,
   "metadata": {},
   "outputs": [
    {
     "data": {
      "text/plain": [
       "<matplotlib.legend.Legend at 0x13d3e2810>"
      ]
     },
     "execution_count": 11,
     "metadata": {},
     "output_type": "execute_result"
    },
    {
     "data": {
      "image/png": "[encoded data removed]",
      "text/plain": [
       "<Figure size 1000x500 with 1 Axes>"
      ]
     },
     "metadata": {},
     "output_type": "display_data"
    }
   ],
   "source": [
    "fig,ax = plt.subplots(figsize=(10,5))\n",
    "fig.set_facecolor('darkgray')\n",
    "ax.set_xlabel('T [K]')\n",
    "ax.set_ylabel(r\"$\\Lambda$ [erg cm$^3$ s$^{-1}$]\")\n",
    "ax.set_yscale('log')\n",
    "ax.set_xscale('log')\n",
    "ax.set_title(\"Collisional Ionization Equilibrium\")\n",
    "ax.set_xlim((8e3, 1.2e8))\n",
    "ax.vlines(x=[2e4,2e5], ymin=1e-24, ymax=1e-21, color='dimgray')\n",
    "plt.plot(CIE_pd[0], CIE_pd[4], color='teal', linewidth=1.5, label=\"$1\\ \\ Z_{\\odot}$\")\n",
    "plt.plot(CIE_pd[0], CIE_pd[2], color='magenta', linewidth=1.5, label=\"$.01\\ Z_{\\odot}$\")\n",
    "plt.legend()"
   ]
  },
  {
   "cell_type": "code",
   "execution_count": 12,
   "metadata": {},
   "outputs": [
    {
     "data": {
      "text/plain": [
       "<matplotlib.legend.Legend at 0x14fae2650>"
      ]
     },
     "execution_count": 12,
     "metadata": {},
     "output_type": "execute_result"
    },
    {
     "data": {
      "image/png": "[encoded data removed]",
      "text/plain": [
       "<Figure size 1000x500 with 1 Axes>"
      ]
     },
     "metadata": {},
     "output_type": "display_data"
    }
   ],
   "source": [
    "fig,ax = plt.subplots(figsize=(10,5))\n",
    "fig.set_facecolor('darkgray')\n",
    "ax.set_xlabel('T [K]')\n",
    "ax.set_ylabel(r\"$\\Lambda$ [erg cm$^3$ s$^{-1}$]\")\n",
    "ax.set_yscale('log')\n",
    "ax.set_xscale('log')\n",
    "ax.set_title(\"Photoionization Equilibrium\")\n",
    "ax.set_xlim((8e3, 1.2e8))\n",
    "ax.vlines(x=[2e4,2e5], ymin=1e-25, ymax=1e-21, color='dimgray')\n",
    "plt.plot(PIE_pd[0], PIE_pd[4], color='teal', linewidth=1.5, label=\"$1\\ \\ Z_{\\odot}$\")\n",
    "plt.plot(PIE_pd[0], PIE_pd[2], color='magenta', linewidth=1.5, label=\"$.01\\ Z_{\\odot}$\")\n",
    "plt.legend()"
   ]
  },
  {
   "cell_type": "code",
   "execution_count": 13,
   "metadata": {},
   "outputs": [
    {
     "data": {
      "text/plain": [
       "<matplotlib.legend.Legend at 0x14feaadd0>"
      ]
     },
     "execution_count": 13,
     "metadata": {},
     "output_type": "execute_result"
    },
    {
     "data": {
      "image/png": "[encoded data removed]",
      "text/plain": [
       "<Figure size 1000x500 with 1 Axes>"
      ]
     },
     "metadata": {},
     "output_type": "display_data"
    }
   ],
   "source": [
    "fig,ax = plt.subplots(figsize=(10,5))\n",
    "fig.set_facecolor('darkgray')\n",
    "ax.set_xlabel('T [K]')\n",
    "ax.set_ylabel(r\"$\\Lambda$ [erg cm$^3$ s$^{-1}$]\")\n",
    "ax.set_yscale('log')\n",
    "ax.set_xscale('log')\n",
    "ax.set_title(\"Time-Dependent Photoionization\")\n",
    "ax.set_xlim((8e3, 1.2e8))\n",
    "ax.vlines(x=[2e4,2e5], ymin=1e-24, ymax=1e-21, color='dimgray')\n",
    "plt.plot(PINE_pd[0], PINE_pd[4], color='teal', linewidth=1.5, label=\"$1\\ \\ Z_{\\odot}$\")\n",
    "plt.plot(PINE_pd[0], PINE_pd[2], color='magenta', linewidth=1.5, label=\"$.01\\ Z_{\\odot}$\")\n",
    "plt.legend()"
   ]
  },
  {
   "cell_type": "markdown",
   "metadata": {},
   "source": [
    "### part b"
   ]
  },
  {
   "cell_type": "code",
   "execution_count": 14,
   "metadata": {},
   "outputs": [
    {
     "data": {
      "text/plain": [
       "<matplotlib.legend.Legend at 0x16a00add0>"
      ]
     },
     "execution_count": 14,
     "metadata": {},
     "output_type": "execute_result"
    },
    {
     "data": {
      "image/png": "[encoded data removed]",
      "text/plain": [
       "<Figure size 1500x700 with 1 Axes>"
      ]
     },
     "metadata": {},
     "output_type": "display_data"
    }
   ],
   "source": [
    "H_0 = 100*h_cosmo # m/s/Mpc \n",
    "H_0 /= 3.086e22 # using 3.068e22 m/Mpc, convert H_0 to s^-1 units!\n",
    "Omega_m = .3\n",
    "Omega_lambda = .7\n",
    "\n",
    "def t_H(T):\n",
    "    return 1 / (H_0*np.sqrt((Omega_m*(T/T_0)**3 + Omega_lambda)))\n",
    "\n",
    "def t_cool(T, cooling, n_H=1e-4):\n",
    "    return 3*k*T/(n_H*cooling)\n",
    "\n",
    "fig,ax = plt.subplots(figsize=(15,7))\n",
    "fig.set_facecolor('darkgray')\n",
    "ax.set_xlabel('T [K]')\n",
    "ax.set_ylabel(r\"t [s$^{-1}$]\")\n",
    "ax.set_yscale('log')\n",
    "ax.set_xscale('log')\n",
    "\n",
    "dfs = {'CIE':CIE_pd, 'PIE':PIE_pd, 'PINE':PINE_pd}\n",
    "colors = {'CIE':'cornflowerblue', 'PIE':'teal', 'PINE':'mediumorchid'}\n",
    "for key in dfs:\n",
    "    Ts = dfs[key][0]\n",
    "    coolings = dfs[key][2]\n",
    "    ax.plot(Ts, t_cool(Ts,coolings), c=colors[key], label=key, linewidth=3)\n",
    "\n",
    "Ts = np.logspace(4,8,600)\n",
    "ax.plot(Ts, t_H(Ts), c='black', linewidth=3, label='Hubble Time')\n",
    "plt.legend()"
   ]
  },
  {
   "cell_type": "markdown",
   "metadata": {},
   "source": [
    "## Problem 3"
   ]
  },
  {
   "cell_type": "code",
   "execution_count": 66,
   "metadata": {},
   "outputs": [
    {
     "name": "stdout",
     "output_type": "stream",
     "text": [
      "Tao_r(z_r=9) = 0.057\n"
     ]
    }
   ],
   "source": [
    "from scipy.integrate import quad\n",
    "def get_n_e(z):\n",
    "    n_H = 8e-6 * Omega_b * h_cosmo**2 * (1 + z)**3\n",
    "    def f(X):\n",
    "        RHS = 1/n_H * ((2*np.pi*m_e*k*T_0*(1+z))/(h**2))**(3/2) *np.exp(-chi_HI_HII/(k*T_0*(1+z)))\n",
    "        LHS = X**2/(1-X)\n",
    "        return np.abs(RHS-LHS)\n",
    "\n",
    "    xs = np.linspace(.001,.999,int(1e6))\n",
    "    fs = f(xs)\n",
    "    return xs[np.argmin(fs)] * n_H\n",
    "\n",
    "c = 3e10 #cm/s\n",
    "sigma_T = 6.652e-25 #cm^2\n",
    "G = 6.67e-8\n",
    "m_p = 1.6726e-24\n",
    "\n",
    "def H(z):\n",
    "    return H_0 * np.sqrt((Omega_m*(1+z)**3 + Omega_lambda))\n",
    "\n",
    "def get_Tao(z):\n",
    "    def integrand(z):\n",
    "        return c*sigma_T*get_n_e(z) / ((1+z)*H(z))\n",
    "    return quad(integrand, 0, z,)[0]\n",
    "\n",
    "print(f\"Tao_r(z_r=9) = {get_Tao(9):.3f}\")"
   ]
  },
  {
   "cell_type": "code",
   "execution_count": null,
   "metadata": {},
   "outputs": [],
   "source": []
  }
 ],
 "metadata": {
  "kernelspec": {
   "display_name": "astro",
   "language": "python",
   "name": "python3"
  },
  "language_info": {
   "codemirror_mode": {
    "name": "ipython",
    "version": 3
   },
   "file_extension": ".py",
   "mimetype": "text/x-python",
   "name": "python",
   "nbconvert_exporter": "python",
   "pygments_lexer": "ipython3",
   "version": "3.11.11"
  }
 },
 "nbformat": 4,
 "nbformat_minor": 2
}
