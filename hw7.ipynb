{
 "cells": [
  {
   "cell_type": "markdown",
   "metadata": {},
   "source": [
    "# HW 7"
   ]
  },
  {
   "cell_type": "markdown",
   "metadata": {},
   "source": [
    "## Problem 1"
   ]
  },
  {
   "cell_type": "code",
   "execution_count": 82,
   "metadata": {},
   "outputs": [],
   "source": [
    "import numpy as np\n",
    "from scipy.integrate import simpson as simps\n",
    "\n",
    "# EVERYTHING IN CGS\n",
    "sigma = 5.670e-5 # cgs\n",
    "c = 3e10 # cgs\n",
    "h = 6.626e-27 # cgs\n",
    "k = 1.3807e-16\n",
    "M_solar = 1.989e33 # g\n",
    "L_solar = 3.839e33\n",
    "R_solar = 6.95e10\n",
    "m_e = 9.1e-28\n",
    "m_p = 1.67e-24\n",
    "\n",
    "ev_to_erg = 1.6e-12\n"
   ]
  },
  {
   "cell_type": "code",
   "execution_count": 267,
   "metadata": {},
   "outputs": [],
   "source": [
    "def L(M):\n",
    "    return L_solar * (M/M_solar)**3.5\n",
    "\n",
    "def R(M):\n",
    "    return R_solar * (M/M_solar)**0.8\n",
    "\n",
    "def T(M):\n",
    "    return (L(M) / (4*np.pi*R(M)**2*sigma))**0.25\n",
    "\n",
    "def n(nu,M):\n",
    "    frac1 = 8 * np.pi * nu**3 * c**-2\n",
    "\n",
    "    exponent = h*nu/(k*T(M))\n",
    "    exponent = np.clip(exponent, 1e-10, 700)\n",
    "    frac2 = (np.exp(exponent) - 1)**-1\n",
    "    return frac1*frac2\n",
    "\n",
    "def salpeter(M):\n",
    "    # NOTE: unnormalized\n",
    "    return M**-2.35\n",
    "\n",
    "def B_nu(nu,T):\n",
    "    frac1 = 2*h*nu**3*c**-2\n",
    "\n",
    "    exponent = h*nu/(k*T)\n",
    "    exponent = np.clip(exponent, 1e-10, 700)\n",
    "    frac2 = (np.exp(exponent)-1)**-1\n",
    "\n",
    "    return frac1*frac2\n",
    "\n",
    "def N_gamma_per_stellar_mass(M):\n",
    "    nu_cutoff = 13.6*ev_to_erg/h\n",
    "    nus = np.logspace(np.log10(nu_cutoff),18,1000)\n",
    "    integrand = B_nu(nus,T(M))/(h*nus) * np.pi * 4*np.pi*R(M)**2\n",
    "    return simps(integrand,nus)\n",
    "\n",
    "def t_star(M):\n",
    "    # Very rough approximation for massive stars\n",
    "    return 1e10 * (M_solar/M)**(2.5) * 3.14e7  # in seconds\n",
    "\n",
    "def Q():\n",
    "    Ms = np.linspace(.01,100,500) * M_solar\n",
    "    numerator_integrand = salpeter(Ms) * Ms * [N_gamma_per_stellar_mass(M) for M in Ms] * t_star(Ms)\n",
    "    numerator = simps(numerator_integrand, Ms)\n",
    "\n",
    "    denom_integrand = salpeter(Ms) * Ms\n",
    "    denom = simps(denom_integrand, Ms)\n",
    "    return numerator/denom"
   ]
  },
  {
   "cell_type": "code",
   "execution_count": 268,
   "metadata": {},
   "outputs": [
    {
     "name": "stdout",
     "output_type": "stream",
     "text": [
      "Q = 7.84e+60 \n"
     ]
    }
   ],
   "source": [
    "print(f\"Q = {Q():.2e} \")"
   ]
  },
  {
   "cell_type": "code",
   "execution_count": 291,
   "metadata": {},
   "outputs": [
    {
     "name": "stdout",
     "output_type": "stream",
     "text": [
      "F = 0.015%\n",
      "\n"
     ]
    }
   ],
   "source": [
    "m_b = (m_p + m_e)/M_solar\n",
    "F = 1/(Q() * m_b)\n",
    "F_percent = 100*F\n",
    "print(f\"F = {F_percent:.3f}%\\n\")"
   ]
  },
  {
   "cell_type": "code",
   "execution_count": 290,
   "metadata": {},
   "outputs": [
    {
     "name": "stdout",
     "output_type": "stream",
     "text": [
      "Accounting for recombination and escape fraction gives:\n",
      "F = 0.23%\n"
     ]
    }
   ],
   "source": [
    "print(\"Accounting for recombination and escape fraction gives:\")\n",
    "photons_per_HI = 3\n",
    "escape_frac = .2\n",
    "F_corrected = F_percent*photons_per_HI/escape_frac\n",
    "print(f\"F = {F_corrected:.2f}%\")"
   ]
  },
  {
   "cell_type": "code",
   "execution_count": 368,
   "metadata": {},
   "outputs": [
    {
     "name": "stdout",
     "output_type": "stream",
     "text": [
      "6.10e+09\n"
     ]
    }
   ],
   "source": [
    "rho_star = 10**6.7\n",
    "h_cosmo = .7\n",
    "omega_b = .022/(h_cosmo**2)\n",
    "rho_crit = 2.775*h_cosmo**2 * 1e11 \n",
    "z=4.25\n",
    "rho_b = omega_b*rho_crit\n",
    "print(f\"{rho_b:.2e}\")"
   ]
  },
  {
   "cell_type": "code",
   "execution_count": 369,
   "metadata": {},
   "outputs": [
    {
     "name": "stdout",
     "output_type": "stream",
     "text": [
      "rho_*/rho_b = 0.082%\n"
     ]
    }
   ],
   "source": [
    "print(f\"rho_*/rho_b = {rho_star/rho_b * 100:.3f}%\")"
   ]
  },
  {
   "cell_type": "markdown",
   "metadata": {},
   "source": [
    "## Problem 2"
   ]
  },
  {
   "cell_type": "code",
   "execution_count": 333,
   "metadata": {},
   "outputs": [
    {
     "name": "stdout",
     "output_type": "stream",
     "text": [
      "c_s = 1.51e+06 cm/s\n"
     ]
    }
   ],
   "source": [
    "def c_s(T, gamma = 5/3, mu=.6):\n",
    "    return np.sqrt(gamma*k*T/(mu*m_p))\n",
    "\n",
    "print(f\"c_s = {c_s(1e4):.2e} cm/s\")"
   ]
  },
  {
   "cell_type": "code",
   "execution_count": 341,
   "metadata": {},
   "outputs": [
    {
     "name": "stdout",
     "output_type": "stream",
     "text": [
      "7.73 AU\n"
     ]
    }
   ],
   "source": [
    "G = 6.67e-8\n",
    "R_crit = 2*G*M_solar/c_s(1e4)**2 / 1.496e+13\n",
    "print(f\"{R_crit:.2f} AU\")"
   ]
  },
  {
   "cell_type": "markdown",
   "metadata": {},
   "source": [
    "## Problem 3"
   ]
  },
  {
   "cell_type": "code",
   "execution_count": null,
   "metadata": {},
   "outputs": [
    {
     "name": "stdout",
     "output_type": "stream",
     "text": [
      "Q_0 = 3.19e+49 photons/sec\n"
     ]
    }
   ],
   "source": [
    "L_star = 6e5*L_solar\n",
    "T_star = 4e4\n",
    "R_star = np.sqrt(L_star/(4*np.pi*sigma*T_star**4))\n",
    "\n",
    "def Q_0(T_star, R_star):\n",
    "    nu_cutoff = 13.6*ev_to_erg/h\n",
    "    nus = np.logspace(np.log10(nu_cutoff),18,1000)\n",
    "    integrand = B_nu(nus,T_star)/(h*nus) * np.pi * 4*np.pi*R_star**2\n",
    "    return simps(integrand,nus)\n",
    "\n",
    "print(f\"Q_0 = {Q_0(T_star,R_star):.2e} photons/sec\")"
   ]
  },
  {
   "cell_type": "code",
   "execution_count": 354,
   "metadata": {},
   "outputs": [
    {
     "name": "stdout",
     "output_type": "stream",
     "text": [
      "r_s = 5.06 pc\n"
     ]
    }
   ],
   "source": [
    "def r_s(n_H, T_star, R_star, alpha_B=2e-13):\n",
    "    r = ((3*Q_0(T_star,R_star))/(4*np.pi*n_H**2*alpha_B))**(1/3)\n",
    "    return r/3.086e18 # output in pc\n",
    "\n",
    "print(f\"r_s = {r_s(1e2, T_star, R_star):.2f} pc\")"
   ]
  },
  {
   "cell_type": "code",
   "execution_count": 363,
   "metadata": {},
   "outputs": [
    {
     "name": "stdout",
     "output_type": "stream",
     "text": [
      "L_1450 = 4.11e+30 erg/s/Hz\n"
     ]
    }
   ],
   "source": [
    "M_1450 = -25\n",
    "f_1450 = 10**((M_1450+48.6)/(-2.5))\n",
    "L_1450 = f_1450 * 4 * np.pi * (10 * 3e18)**2\n",
    "print(f\"L_1450 = {L_1450:.2e} erg/s/Hz\")"
   ]
  },
  {
   "cell_type": "code",
   "execution_count": 365,
   "metadata": {},
   "outputs": [
    {
     "name": "stdout",
     "output_type": "stream",
     "text": [
      "N_gamma = 2.32e+56 photons/s\n"
     ]
    }
   ],
   "source": [
    "def N_gamma_dot():\n",
    "    def L(nu):\n",
    "        nu_1450 = c/(1450*1e-8)\n",
    "        return L_1450*(nu/nu_1450)**-1.4\n",
    "\n",
    "    \n",
    "    nu_cutoff = 13.6*ev_to_erg/h\n",
    "    nus = np.logspace(np.log10(nu_cutoff),18,1000)\n",
    "\n",
    "    integrand = L(nus) / (h*nus)\n",
    "\n",
    "    return simps(integrand,nus)\n",
    "\n",
    "N_gamma_dot()\n",
    "\n",
    "print(f\"N_gamma = {N_gamma_dot():.2e} photons/s\")"
   ]
  },
  {
   "cell_type": "code",
   "execution_count": 376,
   "metadata": {},
   "outputs": [
    {
     "name": "stdout",
     "output_type": "stream",
     "text": [
      "n_H = 9.49e-05\n"
     ]
    }
   ],
   "source": [
    "z = 7\n",
    "h_cosmo = .7\n",
    "omega_b = .022/(h_cosmo**2)\n",
    "rho_crit = 1.879 * h_cosmo**2 * 1e-29\n",
    "rho_b0 = omega_b * rho_crit\n",
    "rho_b = rho_b0 * (1+z)**3\n",
    "n_H = (rho_b * .75) / (m_e+m_p)\n",
    "print(f\"n_H = {n_H:.2e}\")"
   ]
  },
  {
   "cell_type": "code",
   "execution_count": 386,
   "metadata": {},
   "outputs": [
    {
     "name": "stdout",
     "output_type": "stream",
     "text": [
      "1.47 Myrs\n"
     ]
    }
   ],
   "source": [
    "def t_Q(r_s):\n",
    "    num = 4*np.pi*n_H*r_s**3\n",
    "    denom = 3*N_gamma_dot()\n",
    "    return num/denom\n",
    "\n",
    "r_s = 1 * 3e18 * 1e6 # convert Mpc to cm\n",
    "t = t_Q(r_s) \n",
    "t_Myrs = t_Q(r_s) / (3.14e7 * 1e6) # \n",
    "print(f\"{t_Myrs:.2f} Myrs\")"
   ]
  },
  {
   "cell_type": "code",
   "execution_count": null,
   "metadata": {},
   "outputs": [],
   "source": []
  }
 ],
 "metadata": {
  "kernelspec": {
   "display_name": "astro",
   "language": "python",
   "name": "python3"
  },
  "language_info": {
   "codemirror_mode": {
    "name": "ipython",
    "version": 3
   },
   "file_extension": ".py",
   "mimetype": "text/x-python",
   "name": "python",
   "nbconvert_exporter": "python",
   "pygments_lexer": "ipython3",
   "version": "3.11.11"
  }
 },
 "nbformat": 4,
 "nbformat_minor": 2
}
