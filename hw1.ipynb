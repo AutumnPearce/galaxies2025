{
 "cells": [
  {
   "cell_type": "markdown",
   "metadata": {},
   "source": [
    "## HW1"
   ]
  },
  {
   "cell_type": "markdown",
   "metadata": {},
   "source": [
    "### 1a"
   ]
  },
  {
   "cell_type": "code",
   "execution_count": 1,
   "metadata": {},
   "outputs": [
    {
     "data": {
      "image/png": "[encoded data removed]",
      "text/plain": [
       "<Figure size 700x500 with 1 Axes>"
      ]
     },
     "metadata": {},
     "output_type": "display_data"
    },
    {
     "name": "stdout",
     "output_type": "stream",
     "text": [
      "The minimum theta of 3.54\" occurs at z = 1.61. \n"
     ]
    }
   ],
   "source": [
    "import numpy as np\n",
    "from matplotlib import pyplot as plt\n",
    "from scipy.integrate import quad\n",
    "from scipy.optimize import minimize_scalar\n",
    "\n",
    "def X(z, Omega_m=.3, Omega_lambda=.7, h=.7):\n",
    "    H_0 = 100*h # [km/s/Mpc]\n",
    "    def f(z):\n",
    "        return H_0**(-1)*(Omega_m*(1+z)**3 + Omega_lambda)**(-1/2) * 3*10**5 # returns in Mpc\n",
    "    return quad(f, 0, z,)[0]\n",
    "\n",
    "def theta(z, l=.03, Omega_m=.3, Omega_lambda=.7, h=.7):\n",
    "    \"\"\"\n",
    "    Takes: z and l in Mpc\n",
    "    Gives: angular size\n",
    "    \"\"\"\n",
    "    return l*(1+z)/X(z)\n",
    "\n",
    "zs = np.linspace(.1,8, 500)\n",
    "thetas = [theta(z, l=.03) for z in zs] # l in Mpc\n",
    "\n",
    "fig,ax = plt.subplots(figsize=(7,5))\n",
    "fig.set_facecolor('lightgray')\n",
    "ax.set_yscale('log')\n",
    "ax.set_xlabel(\"z\",fontsize=17)\n",
    "ax.set_ylabel(r\"$\\theta$\", fontsize=17)\n",
    "ax.plot(zs,thetas,color='darkred', linewidth=2)\n",
    "plt.show()\n",
    "\n",
    "min_info = minimize_scalar(theta, bounds=(.1,7))\n",
    "min_theta = min_info.fun * 206265\n",
    "print(f\"The minimum theta of {min_theta:.2f}\\\" occurs at z = {min_info.x:.2f}. \")"
   ]
  },
  {
   "cell_type": "markdown",
   "metadata": {},
   "source": [
    "### 1b"
   ]
  },
  {
   "cell_type": "code",
   "execution_count": 4,
   "metadata": {},
   "outputs": [
    {
     "name": "stdout",
     "output_type": "stream",
     "text": [
      "m(z=1) - m(z=.1) = 5.79\n"
     ]
    }
   ],
   "source": [
    "difference = 5*np.log10(2*X(1)) - 5*np.log10(1.1*X(.1))\n",
    "print(f\"m(z=1) - m(z=.1) = {difference:.2f}\")"
   ]
  },
  {
   "cell_type": "markdown",
   "metadata": {},
   "source": [
    "### 1c"
   ]
  },
  {
   "cell_type": "code",
   "execution_count": 5,
   "metadata": {},
   "outputs": [
    {
     "name": "stdout",
     "output_type": "stream",
     "text": [
      "These observers have an angular distance of D_A = 1287.43 Mpc\n"
     ]
    }
   ],
   "source": [
    "true_X = X(1) - X(.5)\n",
    "\n",
    "# function to minimize to find true z\n",
    "def similarity_to_correct_z(z):\n",
    "    return X(z) - true_X\n",
    "min_info = minimize_scalar(similarity_to_correct_z, bounds=(.1,7))\n",
    "true_z = min_info.x\n",
    "\n",
    "D_A = true_X/(1+true_z)\n",
    "\n",
    "print(f\"These observers have an angular distance of D_A = {D_A:.2f} Mpc\")"
   ]
  },
  {
   "cell_type": "markdown",
   "metadata": {},
   "source": [
    "### 1d"
   ]
  },
  {
   "cell_type": "code",
   "execution_count": 6,
   "metadata": {},
   "outputs": [
    {
     "name": "stdout",
     "output_type": "stream",
     "text": [
      "Omega = 18.72 arcmin^2\n"
     ]
    }
   ],
   "source": [
    "omega = (3*1500/(X(1)-X(.5))**3) * (180**2 * 60**2 / np.pi**2)\n",
    "print(f\"Omega = {omega:.2f} arcmin^2\")"
   ]
  },
  {
   "cell_type": "code",
   "execution_count": null,
   "metadata": {},
   "outputs": [
    {
     "name": "stdout",
     "output_type": "stream",
     "text": [
      "Omega = 1.81 arcmin^2\n"
     ]
    }
   ],
   "source": [
    "# corrections\n",
    "omega = (3*1500/(X(1)**3-X(.5)**3)) * (180**2 * 60**2 / np.pi**2)\n",
    "print(f\"Omega = {omega:.2f} arcmin^2\")"
   ]
  },
  {
   "cell_type": "markdown",
   "metadata": {},
   "source": [
    "### 2"
   ]
  },
  {
   "cell_type": "code",
   "execution_count": 3,
   "metadata": {},
   "outputs": [
    {
     "name": "stdout",
     "output_type": "stream",
     "text": [
      "(1e+06 cm^-3, 1e+01 K)  ->  (lam=6.7e+20 m, M_j=3.0e+36 kg)\n",
      "(1e+00 cm^-3, 1e+04 K)  ->  (lam=2.1e+25 m, M_j=9.4e+43 kg)\n",
      "(1e-05 cm^-3, 1e+06 K)  ->  (lam=6.7e+28 m, M_j=3.0e+49 kg)\n"
     ]
    }
   ],
   "source": [
    "mu = 1.4\n",
    "m_H = 1.67e-27 # kg\n",
    "k_B = 1.38e-23 # J K^-1\n",
    "G = 6.67e-11 # m^3 kg^-1 s^-2\n",
    "def get_jeans(n_H, T):\n",
    "    n_H = n_H / 1e6 # convert cm^-3 to m^-3\n",
    "    c_s = ((k_B*T)/(mu*m_H))**.5\n",
    "    rho = n_H * mu * m_H\n",
    "    lam = (15*c_s**2 / (4*np.pi*G*rho))**.5\n",
    "    M_j = 4/3 * np.pi * lam**3 * rho\n",
    "\n",
    "    return lam, M_j\n",
    "\n",
    "inputs = [[1e6,10],\\\n",
    "          [1,1e4],\\\n",
    "          [1e-5,1e6]]\n",
    "\n",
    "\n",
    "for input in inputs:\n",
    "    n_H = input[0]\n",
    "    T = input[1]\n",
    "    lam, M_j = get_jeans(n_H, T)\n",
    "    print(f\"({n_H:.0e} cm^-3, {T:.0e} K)  ->  (lam={lam:.1e} m, M_j={M_j:.1e} kg)\")"
   ]
  },
  {
   "cell_type": "code",
   "execution_count": null,
   "metadata": {},
   "outputs": [],
   "source": []
  }
 ],
 "metadata": {
  "kernelspec": {
   "display_name": "astro",
   "language": "python",
   "name": "python3"
  },
  "language_info": {
   "codemirror_mode": {
    "name": "ipython",
    "version": 3
   },
   "file_extension": ".py",
   "mimetype": "text/x-python",
   "name": "python",
   "nbconvert_exporter": "python",
   "pygments_lexer": "ipython3",
   "version": "3.11.11"
  }
 },
 "nbformat": 4,
 "nbformat_minor": 2
}
